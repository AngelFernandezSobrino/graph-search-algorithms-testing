{
 "cells": [
  {
   "cell_type": "code",
   "execution_count": 45,
   "metadata": {},
   "outputs": [],
   "source": [
    "NodeId = int\n",
    "\n",
    "class Node:\n",
    "    def __init__(self, id: NodeId):\n",
    "        self.id: NodeId = id\n",
    "        self.next: list[Node] = []\n"
   ]
  },
  {
   "cell_type": "code",
   "execution_count": 51,
   "metadata": {},
   "outputs": [],
   "source": [
    "def dfs(node: Node, visited: dict[NodeId, bool], path: list[Node], cycles: list[list[Node]]):\n",
    "    visited[node.id] = True\n",
    "    path.append(node)\n",
    "\n",
    "    for next_node in node.next:\n",
    "        if next_node in path:\n",
    "            cycle_start = path.index(next_node)\n",
    "            cycle = path[cycle_start:]\n",
    "            cycles.append(cycle)\n",
    "        else:\n",
    "            if not visited[next_node.id]:\n",
    "                dfs(next_node, visited, path, cycles)\n",
    "        # No else clause is needed since we don't need to do anything if we have already visited the node.\n",
    "\n",
    "    path.pop()\n",
    "    visited[node.id] = False\n"
   ]
  },
  {
   "cell_type": "code",
   "execution_count": 49,
   "metadata": {},
   "outputs": [],
   "source": [
    "def find_cycles(graph: list[Node]):\n",
    "    evaluated: dict[NodeId, bool] = {}\n",
    "    visited: dict[NodeId, bool] = {}\n",
    "    stack: list[NodeId] = []\n",
    "    cycles: list[list[NodeId]] = []\n",
    "\n",
    "    for node in graph:\n",
    "        evaluated[node.id] = False\n",
    "        visited[node.id] = False\n",
    "\n",
    "    dfs(graph[0], visited, stack, cycles)\n",
    "\n",
    "\n",
    "    return cycles"
   ]
  },
  {
   "cell_type": "code",
   "execution_count": 53,
   "metadata": {},
   "outputs": [
    {
     "name": "stdout",
     "output_type": "stream",
     "text": [
      "2 3 4 7 8 9 11 \n",
      "4 7 8 9 11 5 \n",
      "2 3 4 7 10 9 11 \n",
      "4 7 10 9 11 5 \n",
      "2 3 5 4 7 8 9 11 \n",
      "5 4 7 8 9 11 \n",
      "2 3 5 4 7 10 9 11 \n",
      "5 4 7 10 9 11 \n"
     ]
    }
   ],
   "source": [
    "# Create the graph\n",
    "node2 = Node(2)\n",
    "node3 = Node(3)\n",
    "node4 = Node(4)\n",
    "node5 = Node(5)\n",
    "node7 = Node(7)\n",
    "node8 = Node(8)\n",
    "node9 = Node(9)\n",
    "node10 = Node(10)\n",
    "node11 = Node(11)\n",
    "\n",
    "node2.next = [node3]\n",
    "node3.next = [node4, node5]\n",
    "node4.next = [node7]\n",
    "node5.next = [node4]\n",
    "node7.next = [node8, node10]\n",
    "node8.next = [node9]\n",
    "node9.next = [node11]\n",
    "node10.next = [node9]\n",
    "node11.next = [node2, node5]\n",
    "\n",
    "graph = [node2, node3, node4, node5, node7, node8, node9, node10, node11]\n",
    "\n",
    "# Find cycles\n",
    "cycles = find_cycles(graph)\n",
    "\n",
    "# Print cycles\n",
    "for cycle in cycles:\n",
    "    cycle_string = \"\"\n",
    "    for node in cycle:\n",
    "        cycle_string += str(node.id) + \" \"\n",
    "    print(cycle_string)"
   ]
  }
 ],
 "metadata": {
  "kernelspec": {
   "display_name": ".venv",
   "language": "python",
   "name": "python3"
  },
  "language_info": {
   "codemirror_mode": {
    "name": "ipython",
    "version": 3
   },
   "file_extension": ".py",
   "mimetype": "text/x-python",
   "name": "python",
   "nbconvert_exporter": "python",
   "pygments_lexer": "ipython3",
   "version": "3.11.1"
  },
  "orig_nbformat": 4
 },
 "nbformat": 4,
 "nbformat_minor": 2
}
